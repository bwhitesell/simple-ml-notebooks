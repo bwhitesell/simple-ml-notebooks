{
 "cells": [
  {
   "cell_type": "markdown",
   "metadata": {},
   "source": [
    "### Evaluating our Decision Tree Implementation\n",
    "\n",
    "\n",
    "---\n",
    "\n",
    "The objective of this notebook is to perform a series of benchmarks between the sci-kit learn decision tree regression algorithm and our own implementation of the same algorithm."
   ]
  },
  {
   "cell_type": "markdown",
   "metadata": {},
   "source": [
    "First, import both implementations as well as some helpful tools."
   ]
  },
  {
   "cell_type": "code",
   "execution_count": 1,
   "metadata": {},
   "outputs": [],
   "source": [
    "from main import *\n",
    "import numpy as np\n",
    "from sklearn.tree import DecisionTreeRegressor as sci_dtr\n",
    "from sklearn.metrics import r2_score\n",
    "from matplotlib import pyplot as plt\n"
   ]
  },
  {
   "cell_type": "markdown",
   "metadata": {},
   "source": [
    "Lets start by evaluating the models on a simple data set with simple feature dynamics. A univariate linear model with white noise.\n",
    "\n",
    "$$ y_{i} = x_{i}w + \\epsilon_{i} $$"
   ]
  },
  {
   "cell_type": "code",
   "execution_count": 2,
   "metadata": {},
   "outputs": [],
   "source": [
    "X = np.random.normal(0,5,(100, 1))\n",
    "W = np.ones(1)\n",
    "Y = np.dot(X, W) + np.random.normal(0, 1, 100)\n",
    "\n",
    "train_X = X[:80]\n",
    "test_X = X[80:]\n",
    "train_Y = Y[:80]\n",
    "test_Y = Y[80:]\n"
   ]
  },
  {
   "cell_type": "markdown",
   "metadata": {},
   "source": [
    "We create an 80/20 train test split for evaluation purposes and select our error measure as \n",
    "$$ R^{2} =  1 - \\sum_{n=1}^{100} \\frac{(y_{i} - \\hat{y_{i}})^{2}}{(y_{i} - \\overline{y})^{2}}$$"
   ]
  },
  {
   "cell_type": "code",
   "execution_count": 3,
   "metadata": {},
   "outputs": [
    {
     "data": {
      "text/plain": [
       "DecisionTreeRegressor(criterion='mse', max_depth=5, max_features=None,\n",
       "           max_leaf_nodes=None, min_impurity_decrease=0.0,\n",
       "           min_impurity_split=None, min_samples_leaf=1,\n",
       "           min_samples_split=2, min_weight_fraction_leaf=0.0,\n",
       "           presort=False, random_state=None, splitter='best')"
      ]
     },
     "execution_count": 3,
     "metadata": {},
     "output_type": "execute_result"
    }
   ],
   "source": [
    "dtr = DecisionTreeRegressor(max_depth=5)\n",
    "sk_dtr = sci_dtr(max_depth=5)\n",
    "dtr.fit(train_X, train_Y)\n",
    "sk_dtr.fit(train_X,train_Y)"
   ]
  },
  {
   "cell_type": "markdown",
   "metadata": {},
   "source": [
    "Before we measure the model error over our test set, lets take a look at the representations each model has built of the relationship between y and x."
   ]
  },
  {
   "cell_type": "code",
   "execution_count": 4,
   "metadata": {},
   "outputs": [
    {
     "data": {
      "text/plain": [
       "[<matplotlib.lines.Line2D at 0x7f2c2362b710>]"
      ]
     },
     "execution_count": 4,
     "metadata": {},
     "output_type": "execute_result"
    },
    {
     "data": {
      "image/png": "[encoded data removed]",
      "text/plain": [
       "<Figure size 432x288 with 1 Axes>"
      ]
     },
     "metadata": {
      "needs_background": "light"
     },
     "output_type": "display_data"
    }
   ],
   "source": [
    "plt.plot(range(-15, 15), [dtr.predict(np.array([i])) for i in range(-15,15)])\n",
    "plt.plot(range(-15, 15), [sk_dtr.predict(np.array([i]).reshape(1,-1)) for i in range(-15,15)])"
   ]
  },
  {
   "cell_type": "markdown",
   "metadata": {},
   "source": [
    "At a glance they look very similar but not identical, this must be due to subtle differences in the decision boundary evaluation process."
   ]
  },
  {
   "cell_type": "code",
   "execution_count": 5,
   "metadata": {},
   "outputs": [
    {
     "name": "stdout",
     "output_type": "stream",
     "text": [
      "Simple-ML Decision Tree r2_score:  0.9524575319881073\n",
      "Sci-Kit-Learn Decision Tree r2_score:  0.9524575319881073\n"
     ]
    }
   ],
   "source": [
    "print('Simple-ML Decision Tree r2_score: ', r2_score(test_Y, [dtr.predict(x) for x in test_X]))\n",
    "print('Sci-Kit-Learn Decision Tree r2_score: ', r2_score(test_Y, sk_dtr.predict(test_X)))"
   ]
  },
  {
   "cell_type": "markdown",
   "metadata": {},
   "source": [
    "We get very similar performance between the two. So far so good. Lets try something a bit more complex, a multivariate linear model with white noise on a larget dataset. This will test the ability of the models to build deeper decision boundaries and test the speed of the model on a larger dataset.\n",
    "\n",
    "$$ Y_{i} = X_{i}W + \\epsilon_{i} $$"
   ]
  },
  {
   "cell_type": "code",
   "execution_count": 6,
   "metadata": {},
   "outputs": [],
   "source": [
    "X = np.random.normal(0,5,(500, 20))\n",
    "W = np.random.normal(5,3, 20)\n",
    "Y = np.dot(X, W)\n",
    "\n",
    "train_X = X[:400]\n",
    "test_X = X[400:]\n",
    "train_Y = Y[:400]\n",
    "test_Y = Y[400:]"
   ]
  },
  {
   "cell_type": "code",
   "execution_count": 7,
   "metadata": {},
   "outputs": [
    {
     "name": "stdout",
     "output_type": "stream",
     "text": [
      "0:00:00\n"
     ]
    }
   ],
   "source": [
    "import time\n",
    "from datetime import timedelta\n",
    "print(timedelta(seconds=(time.time() - time.time())))"
   ]
  },
  {
   "cell_type": "code",
   "execution_count": 8,
   "metadata": {},
   "outputs": [
    {
     "name": "stdout",
     "output_type": "stream",
     "text": [
      "simple-ml training time:  0:00:03.482923 seconds\n",
      "sk-learn training time:  0:00:00.003917 seconds\n"
     ]
    }
   ],
   "source": [
    "import time\n",
    "from datetime import timedelta\n",
    "dtr_start = time.time()\n",
    "dtr = DecisionTreeRegressor(max_depth=10)\n",
    "dtr.fit(train_X, train_Y)\n",
    "print('simple-ml training time: ', timedelta(seconds=(time.time() - dtr_start)),'seconds')\n",
    "\n",
    "sk_dtr_start = time.time()\n",
    "sk_dtr = sci_dtr(max_depth=10)\n",
    "sk_dtr.fit(train_X, train_Y)\n",
    "print('sk-learn training time: ', timedelta(seconds=(time.time() - sk_dtr_start)),'seconds')\n"
   ]
  },
  {
   "cell_type": "markdown",
   "metadata": {},
   "source": [
    "Our implementation is exceptionally slow compared to the sklearn implementation. This could be due to the more extensive use of numpy and scipy in the sklearn implementation. In order to achieve better performance it would be valuable to consider how to represent the tree structure such that it could take better advantage of numpy data structures."
   ]
  },
  {
   "cell_type": "code",
   "execution_count": 9,
   "metadata": {},
   "outputs": [
    {
     "name": "stdout",
     "output_type": "stream",
     "text": [
      "Simple-ML Decision Tree r2_score:  0.3385032714524815\n",
      "Sci-Kit-Learn Decision Tree r2_score:  0.2623677437710664\n"
     ]
    }
   ],
   "source": [
    "print('Simple-ML Decision Tree r2_score: ', r2_score(test_Y, [dtr.predict(x) for x in test_X]))\n",
    "print('Sci-Kit-Learn Decision Tree r2_score: ', r2_score(test_Y, sk_dtr.predict(test_X)))"
   ]
  },
  {
   "cell_type": "markdown",
   "metadata": {},
   "source": [
    "We se again our actual model performance on the test set is comparable to that of sklearns performance. Thus the main drawbacks as far as I can tell of our implementation are computational."
   ]
  }
 ],
 "metadata": {
  "kernelspec": {
   "display_name": "Python 3",
   "language": "python",
   "name": "python3"
  },
  "language_info": {
   "codemirror_mode": {
    "name": "ipython",
    "version": 3
   },
   "file_extension": ".py",
   "mimetype": "text/x-python",
   "name": "python",
   "nbconvert_exporter": "python",
   "pygments_lexer": "ipython3",
   "version": "3.6.7"
  }
 },
 "nbformat": 4,
 "nbformat_minor": 1
}
