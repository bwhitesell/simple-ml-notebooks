{
 "cells": [
  {
   "cell_type": "code",
   "execution_count": 1,
   "metadata": {},
   "outputs": [],
   "source": [
    "import numpy as np"
   ]
  },
  {
   "cell_type": "code",
   "execution_count": 227,
   "metadata": {},
   "outputs": [],
   "source": [
    "X = np.random.uniform(0,10,(50000,5))\n",
    "W = 5*np.ones((5, 1))\n",
    "Y = np.array(np.matrix(X)*W + np.random.normal(0, 2, (50000,1)))\n"
   ]
  },
  {
   "cell_type": "code",
   "execution_count": 233,
   "metadata": {},
   "outputs": [],
   "source": [
    "lr = LinearRegressor(.00000000005,1)\n"
   ]
  },
  {
   "cell_type": "code",
   "execution_count": 234,
   "metadata": {},
   "outputs": [],
   "source": [
    "lr.fit(X,Y)"
   ]
  },
  {
   "cell_type": "code",
   "execution_count": 235,
   "metadata": {},
   "outputs": [
    {
     "data": {
      "text/plain": [
       "array([[0.20749718],\n",
       "       [0.95491211],\n",
       "       [0.97554992],\n",
       "       [1.03464972],\n",
       "       [1.04682994],\n",
       "       [0.95089017]])"
      ]
     },
     "execution_count": 235,
     "metadata": {},
     "output_type": "execute_result"
    }
   ],
   "source": [
    "lr.weights"
   ]
  },
  {
   "cell_type": "code",
   "execution_count": 188,
   "metadata": {},
   "outputs": [],
   "source": [
    "class LinearRegressor:\n",
    "    \n",
    "    def __init__(self, eta, n_epochs = 1):\n",
    "        self.eta = eta\n",
    "        self.n_epochs = n_epochs\n",
    "\n",
    "    def fit(self, X, Y):\n",
    "        self.X = X\n",
    "        self.Y = Y\n",
    "        self._validate_args()\n",
    "        \n",
    "        self._format_feature_matrix()\n",
    "        \n",
    "        # initialize weights for linear model\n",
    "        self.weights = np.random.uniform(-.2, .2, (self.n_features + 1, 1))\n",
    "        \n",
    "        self._optimize()\n",
    "        \n",
    "    def update(self, X, Y)\n",
    "        self.X = X\n",
    "        self.Y = Y\n",
    "        self._validate_args()\n",
    "        \n",
    "        self._format_feature_matrix()\n",
    "        \n",
    "        self._update(self.X, self.Y)\n",
    "        \n",
    "\n",
    "    def _format_feature_matrix(self):\n",
    "        self.X = np.hstack((np.ones((self.n_rows,1)), self.X))\n",
    "        self.X = np.matrix(self.X)\n",
    "    \n",
    "    def _validate_args(self):\n",
    "        x_shape = self.X.shape\n",
    "        y_shape = self.Y.shape\n",
    "        if x_shape[0] != y_shape[0]:\n",
    "            raise ValueError(f'Invalid argument dimensions, {x_shape} feature array is incompatable'+\n",
    "                             f' with {y_shape} target array.')\n",
    "        if len(x_shape) != 2 or len(y_shape) != 2:\n",
    "            raise ValueError(f'X and y Must be two-dimensional arrays. The X provided is of shape {x_shape}' +\n",
    "                             f' and the Y provided is of shape {y_shape}')\n",
    "        if y_shape[0] < 1 or x_shape[0] < 1:\n",
    "            raise ValueError(f'Y (target) must contain at leat one value and X must contain at leat one row.')\n",
    "\n",
    "        self._cache_args_metadata()\n",
    "    \n",
    "    def _cache_args_metadata(self):\n",
    "        self.n_rows = self.X.shape[0]\n",
    "        self.n_features = self.X.shape[1]\n",
    "        \n",
    "    \n",
    "    def _cost_function(self, y_true, y_pred):\n",
    "        np.sum(np.power(y_true - y_pred, 2))/y_true.shape[0]\n",
    "        \n",
    "    def _cf_gradient(self, X, Y):\n",
    "        return np.asarray(np.transpose(self.X)*(np.matrix(self.X)*self.weights - np.matrix(self.Y)))\n",
    "    \n",
    "    def _update(self, X, Y):\n",
    "        grad = self._cf_gradient(X, Y)\n",
    "        self.weights = self.weights - self.eta * grad\n",
    "    \n",
    "    def _optimize(self):\n",
    "        for epoch in range(self.n_epochs):\n",
    "            for i in range(self.n_rows):\n",
    "                indx = np.random.randint(self.n_rows)\n",
    "                x = self.X[indx]\n",
    "                y = self.Y[indx]\n",
    "                self._update(x, y)        \n",
    "        \n",
    "        "
   ]
  },
  {
   "cell_type": "code",
   "execution_count": 155,
   "metadata": {},
   "outputs": [
    {
     "data": {
      "text/plain": [
       "array([1.        , 6.10209208, 7.48865325, 3.33254573, 4.8345367 ,\n",
       "       4.93078211])"
      ]
     },
     "execution_count": 155,
     "metadata": {},
     "output_type": "execute_result"
    }
   ],
   "source": [
    "lr.X[5]"
   ]
  },
  {
   "cell_type": "code",
   "execution_count": null,
   "metadata": {},
   "outputs": [],
   "source": []
  }
 ],
 "metadata": {
  "kernelspec": {
   "display_name": "Python 3",
   "language": "python",
   "name": "python3"
  },
  "language_info": {
   "codemirror_mode": {
    "name": "ipython",
    "version": 3
   },
   "file_extension": ".py",
   "mimetype": "text/x-python",
   "name": "python",
   "nbconvert_exporter": "python",
   "pygments_lexer": "ipython3",
   "version": "3.6.5"
  }
 },
 "nbformat": 4,
 "nbformat_minor": 2
}
